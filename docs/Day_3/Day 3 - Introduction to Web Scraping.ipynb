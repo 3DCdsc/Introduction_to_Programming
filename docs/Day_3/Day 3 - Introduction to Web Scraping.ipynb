{
 "cells": [
  {
   "cell_type": "markdown",
   "metadata": {},
   "source": [
    "### Install Dependencies"
   ]
  },
  {
   "cell_type": "code",
   "execution_count": null,
   "metadata": {},
   "outputs": [],
   "source": [
    "!pip install beautifulsoup4"
   ]
  },
  {
   "cell_type": "code",
   "execution_count": null,
   "metadata": {},
   "outputs": [],
   "source": [
    "!pip install requests"
   ]
  },
  {
   "cell_type": "markdown",
   "metadata": {},
   "source": [
    "### Import Packages"
   ]
  },
  {
   "cell_type": "code",
   "execution_count": 1,
   "metadata": {},
   "outputs": [],
   "source": [
    "from bs4 import BeautifulSoup\n",
    "import requests"
   ]
  },
  {
   "cell_type": "markdown",
   "metadata": {},
   "source": [
    "### Overview"
   ]
  },
  {
   "cell_type": "markdown",
   "metadata": {},
   "source": [
    "We will be using a good online resource [ToScrape.com](https://books.toscrape.com/) that allows us to *legally* collect data and use them for practice.\n",
    "\n",
    "By the end of this activity, you should be able to:\n",
    "- Understand how information is structured in a simple web page\n",
    "- Know how to make GET requests to pull data\n",
    "- Debug your code"
   ]
  },
  {
   "cell_type": "markdown",
   "metadata": {},
   "source": [
    "### Exercise 0 - GET links to the books on front page"
   ]
  },
  {
   "cell_type": "markdown",
   "metadata": {},
   "source": [
    "In this demo, we will be trying to get the links to all the books on the front page. "
   ]
  },
  {
   "cell_type": "code",
   "execution_count": 5,
   "metadata": {},
   "outputs": [],
   "source": [
    "def get_links_from_first_page():\n",
    "    \"\"\"This function demonstrates how to collect url to books on the initial page / \"\"\"\n",
    "    \n",
    "    BASE_URL = \"https://books.toscrape.com/\"\n",
    "    urls = []\n",
    "    \n",
    "    # GET /\n",
    "    r = requests.get(BASE_URL)\n",
    "    \n",
    "    # if request successful\n",
    "    if r.status_code == 200:\n",
    "        page = r.text # take the html\n",
    "        soup = BeautifulSoup(page, 'html.parser') # parse it using BS\n",
    "        \n",
    "        # find all products\n",
    "        products = soup.find_all(\"article\")\n",
    "        \n",
    "        # for each product, get the href attribute from the <a> tag\n",
    "        for product in products:\n",
    "            href = product.find(\"a\")[\"href\"]\n",
    "            # form the url and add it to our list\n",
    "            urls.append(BASE_URL + href)\n",
    "            \n",
    "    return urls\n",
    "        "
   ]
  },
  {
   "cell_type": "code",
   "execution_count": 6,
   "metadata": {},
   "outputs": [
    {
     "name": "stdout",
     "output_type": "stream",
     "text": [
      "https://books.toscrape.com/catalogue/a-light-in-the-attic_1000/index.html\n",
      "20\n"
     ]
    }
   ],
   "source": [
    "# Test your function\n",
    "links = get_links_from_first_page()\n",
    "print(links[0])\n",
    "print(len(links))"
   ]
  },
  {
   "cell_type": "markdown",
   "metadata": {},
   "source": [
    "### Exercise 1 - Write a function to get the links to books from pages 1-5 (inclusive)"
   ]
  },
  {
   "cell_type": "markdown",
   "metadata": {},
   "source": [
    "**num_pages**: Integer - No. of pages to crawl\n",
    "\n",
    "Hint: Try to look for patterns in the url. You will need a for loop for this. "
   ]
  },
  {
   "cell_type": "code",
   "execution_count": 2,
   "metadata": {},
   "outputs": [],
   "source": [
    "def get_links(num_pages):\n",
    "    urls = []\n",
    "    for i in range(1, num_pages+1):\n",
    "        BASE_URL = \"https://books.toscrape.com/catalogue/\"\n",
    "        PAGE_URL = f\"{BASE_URL}page-{i}.html\"\n",
    "        # GET /\n",
    "        r = requests.get(PAGE_URL)\n",
    "\n",
    "        # if request successful\n",
    "        if r.status_code == 200:\n",
    "            page = r.text # take the html\n",
    "            soup = BeautifulSoup(page, 'html.parser') # parse it using BS\n",
    "\n",
    "            # find all products\n",
    "            products = soup.find_all(\"article\")\n",
    "\n",
    "            # for each product, get the href attribute from the <a> tag\n",
    "            for product in products:\n",
    "                href = product.find(\"a\")[\"href\"]\n",
    "                # form the url and add it to our list\n",
    "                urls.append(BASE_URL + href)\n",
    "    return urls"
   ]
  },
  {
   "cell_type": "code",
   "execution_count": 3,
   "metadata": {},
   "outputs": [
    {
     "name": "stdout",
     "output_type": "stream",
     "text": [
      "['https://books.toscrape.com/catalogue/a-light-in-the-attic_1000/index.html', 'https://books.toscrape.com/catalogue/tipping-the-velvet_999/index.html', 'https://books.toscrape.com/catalogue/soumission_998/index.html']\n",
      "40\n"
     ]
    }
   ],
   "source": [
    "# Test your function\n",
    "links = get_links(2)\n",
    "print(links[:3])\n",
    "print(len(links))"
   ]
  },
  {
   "cell_type": "markdown",
   "metadata": {},
   "source": [
    "### Exercise 2 - Write a function to get the Book object from each page"
   ]
  },
  {
   "cell_type": "markdown",
   "metadata": {},
   "source": [
    "**page_link**: String - The book's url\n",
    "\n",
    "Example: https://books.toscrape.com/catalogue/a-light-in-the-attic_1000/\n",
    "\n",
    "Hint: Make the code work for the first link, then generalize it for all links."
   ]
  },
  {
   "cell_type": "code",
   "execution_count": 41,
   "metadata": {},
   "outputs": [
    {
     "data": {
      "text/plain": [
       "{'title': 'A Light in the Attic',\n",
       " 'description': \"It's hard to imagine a world without A Light in the Attic. This now-classic collection of poetry and drawings from Shel Silverstein celebrates its 20th anniversary with this special edition. Silverstein's humorous and creative verse can amuse the dowdiest of readers. Lemon-faced adults and fidgety kids sit still and read these rhythmic words and laugh and smile and love th It's hard to imagine a world without A Light in the Attic. This now-classic collection of poetry and drawings from Shel Silverstein celebrates its 20th anniversary with this special edition. Silverstein's humorous and creative verse can amuse the dowdiest of readers. Lemon-faced adults and fidgety kids sit still and read these rhythmic words and laugh and smile and love that Silverstein. Need proof of his genius? RockabyeRockabye baby, in the treetopDon't you know a treetopIs no safe place to rock?And who put you up there,And your cradle, too?Baby, I think someone down here'sGot it in for you. Shel, you never sounded so good. ...more\",\n",
       " 'price': 51.77}"
      ]
     },
     "execution_count": 41,
     "metadata": {},
     "output_type": "execute_result"
    }
   ],
   "source": [
    "# this is the book object\n",
    "{\n",
    "    \"title\": \"A Light in the Attic\",\n",
    "    \"description\": \"It's hard to imagine a world without A Light in the Attic. This now-classic collection of poetry and drawings from Shel Silverstein celebrates its 20th anniversary with this special edition. Silverstein's humorous and creative verse can amuse the dowdiest of readers. Lemon-faced adults and fidgety kids sit still and read these rhythmic words and laugh and smile and love th It's hard to imagine a world without A Light in the Attic. This now-classic collection of poetry and drawings from Shel Silverstein celebrates its 20th anniversary with this special edition. Silverstein's humorous and creative verse can amuse the dowdiest of readers. Lemon-faced adults and fidgety kids sit still and read these rhythmic words and laugh and smile and love that Silverstein. Need proof of his genius? RockabyeRockabye baby, in the treetopDon't you know a treetopIs no safe place to rock?And who put you up there,And your cradle, too?Baby, I think someone down here'sGot it in for you. Shel, you never sounded so good. ...more\",\n",
    "    \"price\": 51.77\n",
    "}"
   ]
  },
  {
   "cell_type": "code",
   "execution_count": 44,
   "metadata": {},
   "outputs": [],
   "source": [
    "def get_book_object(page_link):\n",
    "    r = requests.get(\"https://books.toscrape.com/catalogue/a-light-in-the-attic_1000/\")\n",
    "    if r.status_code == 200:\n",
    "        page = r.text # take the html\n",
    "        soup = BeautifulSoup(page, 'html.parser') # parse it using BS\n",
    "\n",
    "        # find products\n",
    "        product = soup.find_all(\"article\")[0]\n",
    "\n",
    "        if product:\n",
    "            title = product.h1.string\n",
    "            ps = product.find_all('p')\n",
    "            description = ps[-1].string\n",
    "            price = float(ps[0].string[2:])\n",
    "    return {\n",
    "        \"title\": title,\n",
    "        \"price\": price,\n",
    "        \"description\": description\n",
    "    }"
   ]
  },
  {
   "cell_type": "code",
   "execution_count": null,
   "metadata": {},
   "outputs": [],
   "source": []
  },
  {
   "cell_type": "code",
   "execution_count": 45,
   "metadata": {},
   "outputs": [
    {
     "name": "stdout",
     "output_type": "stream",
     "text": [
      "{'title': 'A Light in the Attic', 'price': 51.77, 'description': \"It's hard to imagine a world without A Light in the Attic. This now-classic collection of poetry and drawings from Shel Silverstein celebrates its 20th anniversary with this special edition. Silverstein's humorous and creative verse can amuse the dowdiest of readers. Lemon-faced adults and fidgety kids sit still and read these rhythmic words and laugh and smile and love th It's hard to imagine a world without A Light in the Attic. This now-classic collection of poetry and drawings from Shel Silverstein celebrates its 20th anniversary with this special edition. Silverstein's humorous and creative verse can amuse the dowdiest of readers. Lemon-faced adults and fidgety kids sit still and read these rhythmic words and laugh and smile and love that Silverstein. Need proof of his genius? RockabyeRockabye baby, in the treetopDon't you know a treetopIs no safe place to rock?And who put you up there,And your cradle, too?Baby, I think someone down here'sGot it in for you. Shel, you never sounded so good. ...more\"}\n"
     ]
    }
   ],
   "source": [
    "# Test your function\n",
    "book = get_book_object(\"https://books.toscrape.com/catalogue/a-light-in-the-attic_1000/\")\n",
    "print(book)"
   ]
  },
  {
   "cell_type": "markdown",
   "metadata": {},
   "source": [
    "### Exercise 3 - Write a function to get all Book objects from pages 1-2"
   ]
  },
  {
   "cell_type": "markdown",
   "metadata": {},
   "source": [
    "**num_pages**: Integer - no. of pages of books to scrape\n",
    "\n",
    "Hint: Use the functions you've previously defined"
   ]
  },
  {
   "cell_type": "code",
   "execution_count": null,
   "metadata": {},
   "outputs": [],
   "source": [
    "def get_all_books(num_pages):\n",
    "    pass"
   ]
  },
  {
   "cell_type": "code",
   "execution_count": null,
   "metadata": {},
   "outputs": [],
   "source": [
    "# Test your function\n",
    "books = get_all_books(11)\n",
    "print(books)"
   ]
  },
  {
   "cell_type": "markdown",
   "metadata": {},
   "source": [
    "### Bonus Exercise 1.1 - Write a function to get all category links"
   ]
  },
  {
   "cell_type": "code",
   "execution_count": null,
   "metadata": {},
   "outputs": [],
   "source": [
    "def get_categories():\n",
    "    pass"
   ]
  },
  {
   "cell_type": "markdown",
   "metadata": {},
   "source": [
    "### Bonus Exercise 1.2 - Write a function to get all books from a category"
   ]
  },
  {
   "cell_type": "markdown",
   "metadata": {},
   "source": [
    "**category url**: String"
   ]
  },
  {
   "cell_type": "code",
   "execution_count": null,
   "metadata": {},
   "outputs": [],
   "source": [
    "def get_all_books_from_cat(category_link):\n",
    "    pass"
   ]
  },
  {
   "cell_type": "markdown",
   "metadata": {},
   "source": [
    "### Bonus Exercise 1.3 - Write a function to get all books from all categories"
   ]
  },
  {
   "cell_type": "code",
   "execution_count": null,
   "metadata": {},
   "outputs": [],
   "source": [
    "def get_everything():\n",
    "    pass"
   ]
  },
  {
   "cell_type": "code",
   "execution_count": null,
   "metadata": {},
   "outputs": [],
   "source": []
  }
 ],
 "metadata": {
  "kernelspec": {
   "display_name": "Python 3",
   "language": "python",
   "name": "python3"
  },
  "language_info": {
   "codemirror_mode": {
    "name": "ipython",
    "version": 3
   },
   "file_extension": ".py",
   "mimetype": "text/x-python",
   "name": "python",
   "nbconvert_exporter": "python",
   "pygments_lexer": "ipython3",
   "version": "3.9.1"
  }
 },
 "nbformat": 4,
 "nbformat_minor": 4
}
